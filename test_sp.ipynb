{
 "metadata": {
  "language_info": {
   "codemirror_mode": {
    "name": "ipython",
    "version": 3
   },
   "file_extension": ".py",
   "mimetype": "text/x-python",
   "name": "python",
   "nbconvert_exporter": "python",
   "pygments_lexer": "ipython3",
   "version": "3.8.5-final"
  },
  "orig_nbformat": 2,
  "kernelspec": {
   "name": "python3",
   "display_name": "Python 3.8.5 64-bit (conda)",
   "metadata": {
    "interpreter": {
     "hash": "198bbd6c637dc8f9690550678b0d4be01905b187f2f986c78f6b9270e29080c4"
    }
   }
  }
 },
 "nbformat": 4,
 "nbformat_minor": 2,
 "cells": [
  {
   "cell_type": "code",
   "execution_count": 1,
   "metadata": {},
   "outputs": [],
   "source": [
    "import pandas as pd \n",
    "import seaborn as sns\n"
   ]
  },
  {
   "cell_type": "code",
   "execution_count": 2,
   "metadata": {},
   "outputs": [],
   "source": [
    "df = pd.read_csv(\"global_terror.csv\", encoding=\"latin-1\")\n"
   ]
  },
  {
   "cell_type": "code",
   "execution_count": 3,
   "metadata": {},
   "outputs": [
    {
     "output_type": "execute_result",
     "data": {
      "text/plain": [
       "             eventid  iyear  imonth  iday approxdate  extended resolution  \\\n",
       "0       197000000001   1970       7     2        NaN         0        NaN   \n",
       "1       197000000002   1970       0     0        NaN         0        NaN   \n",
       "2       197001000001   1970       1     0        NaN         0        NaN   \n",
       "3       197001000002   1970       1     0        NaN         0        NaN   \n",
       "4       197001000003   1970       1     0        NaN         0        NaN   \n",
       "...              ...    ...     ...   ...        ...       ...        ...   \n",
       "181686  201712310022   2017      12    31        NaN         0        NaN   \n",
       "181687  201712310029   2017      12    31        NaN         0        NaN   \n",
       "181688  201712310030   2017      12    31        NaN         0        NaN   \n",
       "181689  201712310031   2017      12    31        NaN         0        NaN   \n",
       "181690  201712310032   2017      12    31        NaN         0        NaN   \n",
       "\n",
       "        country         country_txt  region  ... addnotes  \\\n",
       "0            58  Dominican Republic       2  ...      NaN   \n",
       "1           130              Mexico       1  ...      NaN   \n",
       "2           160         Philippines       5  ...      NaN   \n",
       "3            78              Greece       8  ...      NaN   \n",
       "4           101               Japan       4  ...      NaN   \n",
       "...         ...                 ...     ...  ...      ...   \n",
       "181686      182             Somalia      11  ...      NaN   \n",
       "181687      200               Syria      10  ...      NaN   \n",
       "181688      160         Philippines       5  ...      NaN   \n",
       "181689       92               India       6  ...      NaN   \n",
       "181690      160         Philippines       5  ...      NaN   \n",
       "\n",
       "                                                   scite1  \\\n",
       "0                                                     NaN   \n",
       "1                                                     NaN   \n",
       "2                                                     NaN   \n",
       "3                                                     NaN   \n",
       "4                                                     NaN   \n",
       "...                                                   ...   \n",
       "181686  \"Somalia: Al-Shabaab Militants Attack Army Che...   \n",
       "181687  \"Putin's 'victory' in Syria has turned into a ...   \n",
       "181688  \"Maguindanao clashes trap tribe members,\" Phil...   \n",
       "181689  \"Trader escapes grenade attack in Imphal,\" Bus...   \n",
       "181690  \"Security tightened in Cotabato following IED ...   \n",
       "\n",
       "                                                   scite2  \\\n",
       "0                                                     NaN   \n",
       "1                                                     NaN   \n",
       "2                                                     NaN   \n",
       "3                                                     NaN   \n",
       "4                                                     NaN   \n",
       "...                                                   ...   \n",
       "181686  \"Highlights: Somalia Daily Media Highlights 2 ...   \n",
       "181687  \"Two Russian soldiers killed at Hmeymim base i...   \n",
       "181688                                                NaN   \n",
       "181689                                                NaN   \n",
       "181690  \"Security tightened in Cotabato City,\" Manila ...   \n",
       "\n",
       "                                                   scite3  \\\n",
       "0                                                     NaN   \n",
       "1                                                     NaN   \n",
       "2                                                     NaN   \n",
       "3                                                     NaN   \n",
       "4                                                     NaN   \n",
       "...                                                   ...   \n",
       "181686  \"Highlights: Somalia Daily Media Highlights 1 ...   \n",
       "181687  \"Two Russian servicemen killed in Syria mortar...   \n",
       "181688                                                NaN   \n",
       "181689                                                NaN   \n",
       "181690                                                NaN   \n",
       "\n",
       "                        dbsource  INT_LOG  INT_IDEO INT_MISC INT_ANY  related  \n",
       "0                           PGIS        0         0        0       0      NaN  \n",
       "1                           PGIS        0         1        1       1      NaN  \n",
       "2                           PGIS       -9        -9        1       1      NaN  \n",
       "3                           PGIS       -9        -9        1       1      NaN  \n",
       "4                           PGIS       -9        -9        1       1      NaN  \n",
       "...                          ...      ...       ...      ...     ...      ...  \n",
       "181686  START Primary Collection        0         0        0       0      NaN  \n",
       "181687  START Primary Collection       -9        -9        1       1      NaN  \n",
       "181688  START Primary Collection        0         0        0       0      NaN  \n",
       "181689  START Primary Collection       -9        -9        0      -9      NaN  \n",
       "181690  START Primary Collection       -9        -9        0      -9      NaN  \n",
       "\n",
       "[181691 rows x 135 columns]"
      ],
      "text/html": "<div>\n<style scoped>\n    .dataframe tbody tr th:only-of-type {\n        vertical-align: middle;\n    }\n\n    .dataframe tbody tr th {\n        vertical-align: top;\n    }\n\n    .dataframe thead th {\n        text-align: right;\n    }\n</style>\n<table border=\"1\" class=\"dataframe\">\n  <thead>\n    <tr style=\"text-align: right;\">\n      <th></th>\n      <th>eventid</th>\n      <th>iyear</th>\n      <th>imonth</th>\n      <th>iday</th>\n      <th>approxdate</th>\n      <th>extended</th>\n      <th>resolution</th>\n      <th>country</th>\n      <th>country_txt</th>\n      <th>region</th>\n      <th>...</th>\n      <th>addnotes</th>\n      <th>scite1</th>\n      <th>scite2</th>\n      <th>scite3</th>\n      <th>dbsource</th>\n      <th>INT_LOG</th>\n      <th>INT_IDEO</th>\n      <th>INT_MISC</th>\n      <th>INT_ANY</th>\n      <th>related</th>\n    </tr>\n  </thead>\n  <tbody>\n    <tr>\n      <th>0</th>\n      <td>197000000001</td>\n      <td>1970</td>\n      <td>7</td>\n      <td>2</td>\n      <td>NaN</td>\n      <td>0</td>\n      <td>NaN</td>\n      <td>58</td>\n      <td>Dominican Republic</td>\n      <td>2</td>\n      <td>...</td>\n      <td>NaN</td>\n      <td>NaN</td>\n      <td>NaN</td>\n      <td>NaN</td>\n      <td>PGIS</td>\n      <td>0</td>\n      <td>0</td>\n      <td>0</td>\n      <td>0</td>\n      <td>NaN</td>\n    </tr>\n    <tr>\n      <th>1</th>\n      <td>197000000002</td>\n      <td>1970</td>\n      <td>0</td>\n      <td>0</td>\n      <td>NaN</td>\n      <td>0</td>\n      <td>NaN</td>\n      <td>130</td>\n      <td>Mexico</td>\n      <td>1</td>\n      <td>...</td>\n      <td>NaN</td>\n      <td>NaN</td>\n      <td>NaN</td>\n      <td>NaN</td>\n      <td>PGIS</td>\n      <td>0</td>\n      <td>1</td>\n      <td>1</td>\n      <td>1</td>\n      <td>NaN</td>\n    </tr>\n    <tr>\n      <th>2</th>\n      <td>197001000001</td>\n      <td>1970</td>\n      <td>1</td>\n      <td>0</td>\n      <td>NaN</td>\n      <td>0</td>\n      <td>NaN</td>\n      <td>160</td>\n      <td>Philippines</td>\n      <td>5</td>\n      <td>...</td>\n      <td>NaN</td>\n      <td>NaN</td>\n      <td>NaN</td>\n      <td>NaN</td>\n      <td>PGIS</td>\n      <td>-9</td>\n      <td>-9</td>\n      <td>1</td>\n      <td>1</td>\n      <td>NaN</td>\n    </tr>\n    <tr>\n      <th>3</th>\n      <td>197001000002</td>\n      <td>1970</td>\n      <td>1</td>\n      <td>0</td>\n      <td>NaN</td>\n      <td>0</td>\n      <td>NaN</td>\n      <td>78</td>\n      <td>Greece</td>\n      <td>8</td>\n      <td>...</td>\n      <td>NaN</td>\n      <td>NaN</td>\n      <td>NaN</td>\n      <td>NaN</td>\n      <td>PGIS</td>\n      <td>-9</td>\n      <td>-9</td>\n      <td>1</td>\n      <td>1</td>\n      <td>NaN</td>\n    </tr>\n    <tr>\n      <th>4</th>\n      <td>197001000003</td>\n      <td>1970</td>\n      <td>1</td>\n      <td>0</td>\n      <td>NaN</td>\n      <td>0</td>\n      <td>NaN</td>\n      <td>101</td>\n      <td>Japan</td>\n      <td>4</td>\n      <td>...</td>\n      <td>NaN</td>\n      <td>NaN</td>\n      <td>NaN</td>\n      <td>NaN</td>\n      <td>PGIS</td>\n      <td>-9</td>\n      <td>-9</td>\n      <td>1</td>\n      <td>1</td>\n      <td>NaN</td>\n    </tr>\n    <tr>\n      <th>...</th>\n      <td>...</td>\n      <td>...</td>\n      <td>...</td>\n      <td>...</td>\n      <td>...</td>\n      <td>...</td>\n      <td>...</td>\n      <td>...</td>\n      <td>...</td>\n      <td>...</td>\n      <td>...</td>\n      <td>...</td>\n      <td>...</td>\n      <td>...</td>\n      <td>...</td>\n      <td>...</td>\n      <td>...</td>\n      <td>...</td>\n      <td>...</td>\n      <td>...</td>\n      <td>...</td>\n    </tr>\n    <tr>\n      <th>181686</th>\n      <td>201712310022</td>\n      <td>2017</td>\n      <td>12</td>\n      <td>31</td>\n      <td>NaN</td>\n      <td>0</td>\n      <td>NaN</td>\n      <td>182</td>\n      <td>Somalia</td>\n      <td>11</td>\n      <td>...</td>\n      <td>NaN</td>\n      <td>\"Somalia: Al-Shabaab Militants Attack Army Che...</td>\n      <td>\"Highlights: Somalia Daily Media Highlights 2 ...</td>\n      <td>\"Highlights: Somalia Daily Media Highlights 1 ...</td>\n      <td>START Primary Collection</td>\n      <td>0</td>\n      <td>0</td>\n      <td>0</td>\n      <td>0</td>\n      <td>NaN</td>\n    </tr>\n    <tr>\n      <th>181687</th>\n      <td>201712310029</td>\n      <td>2017</td>\n      <td>12</td>\n      <td>31</td>\n      <td>NaN</td>\n      <td>0</td>\n      <td>NaN</td>\n      <td>200</td>\n      <td>Syria</td>\n      <td>10</td>\n      <td>...</td>\n      <td>NaN</td>\n      <td>\"Putin's 'victory' in Syria has turned into a ...</td>\n      <td>\"Two Russian soldiers killed at Hmeymim base i...</td>\n      <td>\"Two Russian servicemen killed in Syria mortar...</td>\n      <td>START Primary Collection</td>\n      <td>-9</td>\n      <td>-9</td>\n      <td>1</td>\n      <td>1</td>\n      <td>NaN</td>\n    </tr>\n    <tr>\n      <th>181688</th>\n      <td>201712310030</td>\n      <td>2017</td>\n      <td>12</td>\n      <td>31</td>\n      <td>NaN</td>\n      <td>0</td>\n      <td>NaN</td>\n      <td>160</td>\n      <td>Philippines</td>\n      <td>5</td>\n      <td>...</td>\n      <td>NaN</td>\n      <td>\"Maguindanao clashes trap tribe members,\" Phil...</td>\n      <td>NaN</td>\n      <td>NaN</td>\n      <td>START Primary Collection</td>\n      <td>0</td>\n      <td>0</td>\n      <td>0</td>\n      <td>0</td>\n      <td>NaN</td>\n    </tr>\n    <tr>\n      <th>181689</th>\n      <td>201712310031</td>\n      <td>2017</td>\n      <td>12</td>\n      <td>31</td>\n      <td>NaN</td>\n      <td>0</td>\n      <td>NaN</td>\n      <td>92</td>\n      <td>India</td>\n      <td>6</td>\n      <td>...</td>\n      <td>NaN</td>\n      <td>\"Trader escapes grenade attack in Imphal,\" Bus...</td>\n      <td>NaN</td>\n      <td>NaN</td>\n      <td>START Primary Collection</td>\n      <td>-9</td>\n      <td>-9</td>\n      <td>0</td>\n      <td>-9</td>\n      <td>NaN</td>\n    </tr>\n    <tr>\n      <th>181690</th>\n      <td>201712310032</td>\n      <td>2017</td>\n      <td>12</td>\n      <td>31</td>\n      <td>NaN</td>\n      <td>0</td>\n      <td>NaN</td>\n      <td>160</td>\n      <td>Philippines</td>\n      <td>5</td>\n      <td>...</td>\n      <td>NaN</td>\n      <td>\"Security tightened in Cotabato following IED ...</td>\n      <td>\"Security tightened in Cotabato City,\" Manila ...</td>\n      <td>NaN</td>\n      <td>START Primary Collection</td>\n      <td>-9</td>\n      <td>-9</td>\n      <td>0</td>\n      <td>-9</td>\n      <td>NaN</td>\n    </tr>\n  </tbody>\n</table>\n<p>181691 rows × 135 columns</p>\n</div>"
     },
     "metadata": {},
     "execution_count": 3
    }
   ],
   "source": [
    "df"
   ]
  },
  {
   "cell_type": "code",
   "execution_count": 4,
   "metadata": {},
   "outputs": [
    {
     "output_type": "execute_result",
     "data": {
      "text/plain": [
       "Index(['eventid', 'iyear', 'imonth', 'iday', 'approxdate', 'extended',\n",
       "       'resolution', 'country', 'country_txt', 'region',\n",
       "       ...\n",
       "       'addnotes', 'scite1', 'scite2', 'scite3', 'dbsource', 'INT_LOG',\n",
       "       'INT_IDEO', 'INT_MISC', 'INT_ANY', 'related'],\n",
       "      dtype='object', length=135)"
      ]
     },
     "metadata": {},
     "execution_count": 4
    }
   ],
   "source": [
    "df.columns"
   ]
  },
  {
   "cell_type": "code",
   "execution_count": 5,
   "metadata": {},
   "outputs": [],
   "source": [
    "keep_columns =[\"iyear\", \"imonth\", \"iday\", \"country_txt\", \"region_txt\",\"latitude\",\"longitude\"]\n",
    "\n",
    "df= df[keep_columns]"
   ]
  },
  {
   "cell_type": "code",
   "execution_count": 6,
   "metadata": {},
   "outputs": [
    {
     "output_type": "execute_result",
     "data": {
      "text/plain": [
       "        iyear  imonth  iday         country_txt                   region_txt  \\\n",
       "0        1970       7     2  Dominican Republic  Central America & Caribbean   \n",
       "1        1970       0     0              Mexico                North America   \n",
       "2        1970       1     0         Philippines               Southeast Asia   \n",
       "3        1970       1     0              Greece               Western Europe   \n",
       "4        1970       1     0               Japan                    East Asia   \n",
       "...       ...     ...   ...                 ...                          ...   \n",
       "181686   2017      12    31             Somalia           Sub-Saharan Africa   \n",
       "181687   2017      12    31               Syria   Middle East & North Africa   \n",
       "181688   2017      12    31         Philippines               Southeast Asia   \n",
       "181689   2017      12    31               India                   South Asia   \n",
       "181690   2017      12    31         Philippines               Southeast Asia   \n",
       "\n",
       "         latitude   longitude  \n",
       "0       18.456792  -69.951164  \n",
       "1       19.371887  -99.086624  \n",
       "2       15.478598  120.599741  \n",
       "3       37.997490   23.762728  \n",
       "4       33.580412  130.396361  \n",
       "...           ...         ...  \n",
       "181686   2.359673   45.385034  \n",
       "181687  35.407278   35.942679  \n",
       "181688   6.900742  124.437908  \n",
       "181689  24.798346   93.940430  \n",
       "181690   7.209594  124.241966  \n",
       "\n",
       "[181691 rows x 7 columns]"
      ],
      "text/html": "<div>\n<style scoped>\n    .dataframe tbody tr th:only-of-type {\n        vertical-align: middle;\n    }\n\n    .dataframe tbody tr th {\n        vertical-align: top;\n    }\n\n    .dataframe thead th {\n        text-align: right;\n    }\n</style>\n<table border=\"1\" class=\"dataframe\">\n  <thead>\n    <tr style=\"text-align: right;\">\n      <th></th>\n      <th>iyear</th>\n      <th>imonth</th>\n      <th>iday</th>\n      <th>country_txt</th>\n      <th>region_txt</th>\n      <th>latitude</th>\n      <th>longitude</th>\n    </tr>\n  </thead>\n  <tbody>\n    <tr>\n      <th>0</th>\n      <td>1970</td>\n      <td>7</td>\n      <td>2</td>\n      <td>Dominican Republic</td>\n      <td>Central America &amp; Caribbean</td>\n      <td>18.456792</td>\n      <td>-69.951164</td>\n    </tr>\n    <tr>\n      <th>1</th>\n      <td>1970</td>\n      <td>0</td>\n      <td>0</td>\n      <td>Mexico</td>\n      <td>North America</td>\n      <td>19.371887</td>\n      <td>-99.086624</td>\n    </tr>\n    <tr>\n      <th>2</th>\n      <td>1970</td>\n      <td>1</td>\n      <td>0</td>\n      <td>Philippines</td>\n      <td>Southeast Asia</td>\n      <td>15.478598</td>\n      <td>120.599741</td>\n    </tr>\n    <tr>\n      <th>3</th>\n      <td>1970</td>\n      <td>1</td>\n      <td>0</td>\n      <td>Greece</td>\n      <td>Western Europe</td>\n      <td>37.997490</td>\n      <td>23.762728</td>\n    </tr>\n    <tr>\n      <th>4</th>\n      <td>1970</td>\n      <td>1</td>\n      <td>0</td>\n      <td>Japan</td>\n      <td>East Asia</td>\n      <td>33.580412</td>\n      <td>130.396361</td>\n    </tr>\n    <tr>\n      <th>...</th>\n      <td>...</td>\n      <td>...</td>\n      <td>...</td>\n      <td>...</td>\n      <td>...</td>\n      <td>...</td>\n      <td>...</td>\n    </tr>\n    <tr>\n      <th>181686</th>\n      <td>2017</td>\n      <td>12</td>\n      <td>31</td>\n      <td>Somalia</td>\n      <td>Sub-Saharan Africa</td>\n      <td>2.359673</td>\n      <td>45.385034</td>\n    </tr>\n    <tr>\n      <th>181687</th>\n      <td>2017</td>\n      <td>12</td>\n      <td>31</td>\n      <td>Syria</td>\n      <td>Middle East &amp; North Africa</td>\n      <td>35.407278</td>\n      <td>35.942679</td>\n    </tr>\n    <tr>\n      <th>181688</th>\n      <td>2017</td>\n      <td>12</td>\n      <td>31</td>\n      <td>Philippines</td>\n      <td>Southeast Asia</td>\n      <td>6.900742</td>\n      <td>124.437908</td>\n    </tr>\n    <tr>\n      <th>181689</th>\n      <td>2017</td>\n      <td>12</td>\n      <td>31</td>\n      <td>India</td>\n      <td>South Asia</td>\n      <td>24.798346</td>\n      <td>93.940430</td>\n    </tr>\n    <tr>\n      <th>181690</th>\n      <td>2017</td>\n      <td>12</td>\n      <td>31</td>\n      <td>Philippines</td>\n      <td>Southeast Asia</td>\n      <td>7.209594</td>\n      <td>124.241966</td>\n    </tr>\n  </tbody>\n</table>\n<p>181691 rows × 7 columns</p>\n</div>"
     },
     "metadata": {},
     "execution_count": 6
    }
   ],
   "source": [
    "df"
   ]
  },
  {
   "cell_type": "code",
   "execution_count": 7,
   "metadata": {},
   "outputs": [
    {
     "output_type": "stream",
     "name": "stdout",
     "text": [
      "<class 'pandas.core.frame.DataFrame'>\nRangeIndex: 181691 entries, 0 to 181690\nData columns (total 7 columns):\n #   Column       Non-Null Count   Dtype  \n---  ------       --------------   -----  \n 0   iyear        181691 non-null  int64  \n 1   imonth       181691 non-null  int64  \n 2   iday         181691 non-null  int64  \n 3   country_txt  181691 non-null  object \n 4   region_txt   181691 non-null  object \n 5   latitude     177135 non-null  float64\n 6   longitude    177134 non-null  float64\ndtypes: float64(2), int64(3), object(2)\nmemory usage: 9.7+ MB\n"
     ]
    }
   ],
   "source": [
    "df.info()"
   ]
  },
  {
   "cell_type": "code",
   "execution_count": 12,
   "metadata": {},
   "outputs": [
    {
     "output_type": "execute_result",
     "data": {
      "text/plain": [
       "                0      1      2      3      4      5      6      7      8   \\\n",
       "iyear         1970   1970   1971   1971   1972   1972   1973   1973   1974   \n",
       "country_txt  Italy  Spain  Italy  Spain  Italy  Spain  Italy  Spain  Italy   \n",
       "count            3      4      3     22      4     19     15     21     22   \n",
       "\n",
       "                9   ...     82     83     84     85     86     87     88  \\\n",
       "iyear         1974  ...   2013   2013   2014   2014   2015   2015   2016   \n",
       "country_txt  Spain  ...  Italy  Spain  Italy  Spain  Italy  Spain  Italy   \n",
       "count           14  ...      7      5      7      4      5      1     11   \n",
       "\n",
       "                89     90     91  \n",
       "iyear         2016   2017   2017  \n",
       "country_txt  Spain  Italy  Spain  \n",
       "count            3      8      4  \n",
       "\n",
       "[3 rows x 92 columns]"
      ],
      "text/html": "<div>\n<style scoped>\n    .dataframe tbody tr th:only-of-type {\n        vertical-align: middle;\n    }\n\n    .dataframe tbody tr th {\n        vertical-align: top;\n    }\n\n    .dataframe thead th {\n        text-align: right;\n    }\n</style>\n<table border=\"1\" class=\"dataframe\">\n  <thead>\n    <tr style=\"text-align: right;\">\n      <th></th>\n      <th>0</th>\n      <th>1</th>\n      <th>2</th>\n      <th>3</th>\n      <th>4</th>\n      <th>5</th>\n      <th>6</th>\n      <th>7</th>\n      <th>8</th>\n      <th>9</th>\n      <th>...</th>\n      <th>82</th>\n      <th>83</th>\n      <th>84</th>\n      <th>85</th>\n      <th>86</th>\n      <th>87</th>\n      <th>88</th>\n      <th>89</th>\n      <th>90</th>\n      <th>91</th>\n    </tr>\n  </thead>\n  <tbody>\n    <tr>\n      <th>iyear</th>\n      <td>1970</td>\n      <td>1970</td>\n      <td>1971</td>\n      <td>1971</td>\n      <td>1972</td>\n      <td>1972</td>\n      <td>1973</td>\n      <td>1973</td>\n      <td>1974</td>\n      <td>1974</td>\n      <td>...</td>\n      <td>2013</td>\n      <td>2013</td>\n      <td>2014</td>\n      <td>2014</td>\n      <td>2015</td>\n      <td>2015</td>\n      <td>2016</td>\n      <td>2016</td>\n      <td>2017</td>\n      <td>2017</td>\n    </tr>\n    <tr>\n      <th>country_txt</th>\n      <td>Italy</td>\n      <td>Spain</td>\n      <td>Italy</td>\n      <td>Spain</td>\n      <td>Italy</td>\n      <td>Spain</td>\n      <td>Italy</td>\n      <td>Spain</td>\n      <td>Italy</td>\n      <td>Spain</td>\n      <td>...</td>\n      <td>Italy</td>\n      <td>Spain</td>\n      <td>Italy</td>\n      <td>Spain</td>\n      <td>Italy</td>\n      <td>Spain</td>\n      <td>Italy</td>\n      <td>Spain</td>\n      <td>Italy</td>\n      <td>Spain</td>\n    </tr>\n    <tr>\n      <th>count</th>\n      <td>3</td>\n      <td>4</td>\n      <td>3</td>\n      <td>22</td>\n      <td>4</td>\n      <td>19</td>\n      <td>15</td>\n      <td>21</td>\n      <td>22</td>\n      <td>14</td>\n      <td>...</td>\n      <td>7</td>\n      <td>5</td>\n      <td>7</td>\n      <td>4</td>\n      <td>5</td>\n      <td>1</td>\n      <td>11</td>\n      <td>3</td>\n      <td>8</td>\n      <td>4</td>\n    </tr>\n  </tbody>\n</table>\n<p>3 rows × 92 columns</p>\n</div>"
     },
     "metadata": {},
     "execution_count": 12
    }
   ],
   "source": [
    "df_filter= df[df[\"country_txt\"].isin([\"Spain\",\"Italy\"])]\n",
    "df_filter= df_filter[[\"iyear\",\"country_txt\"]]\n",
    "\n",
    "gb = df_filter.groupby([\"iyear\",\"country_txt\"])[\"country_txt\"].count().to_frame()\n",
    "gb.columns = [\"count\"]\n",
    "gb.reset_index(inplace = True)\n",
    "gb.T\n"
   ]
  },
  {
   "cell_type": "code",
   "execution_count": 13,
   "metadata": {},
   "outputs": [
    {
     "output_type": "execute_result",
     "data": {
      "text/plain": [
       "        iyear country_txt\n",
       "12       1970       Italy\n",
       "97       1970       Italy\n",
       "103      1970       Spain\n",
       "437      1970       Spain\n",
       "569      1970       Italy\n",
       "...       ...         ...\n",
       "178017   2017       Spain\n",
       "178018   2017       Spain\n",
       "178048   2017       Spain\n",
       "181113   2017       Italy\n",
       "181682   2017       Italy\n",
       "\n",
       "[4814 rows x 2 columns]"
      ],
      "text/html": "<div>\n<style scoped>\n    .dataframe tbody tr th:only-of-type {\n        vertical-align: middle;\n    }\n\n    .dataframe tbody tr th {\n        vertical-align: top;\n    }\n\n    .dataframe thead th {\n        text-align: right;\n    }\n</style>\n<table border=\"1\" class=\"dataframe\">\n  <thead>\n    <tr style=\"text-align: right;\">\n      <th></th>\n      <th>iyear</th>\n      <th>country_txt</th>\n    </tr>\n  </thead>\n  <tbody>\n    <tr>\n      <th>12</th>\n      <td>1970</td>\n      <td>Italy</td>\n    </tr>\n    <tr>\n      <th>97</th>\n      <td>1970</td>\n      <td>Italy</td>\n    </tr>\n    <tr>\n      <th>103</th>\n      <td>1970</td>\n      <td>Spain</td>\n    </tr>\n    <tr>\n      <th>437</th>\n      <td>1970</td>\n      <td>Spain</td>\n    </tr>\n    <tr>\n      <th>569</th>\n      <td>1970</td>\n      <td>Italy</td>\n    </tr>\n    <tr>\n      <th>...</th>\n      <td>...</td>\n      <td>...</td>\n    </tr>\n    <tr>\n      <th>178017</th>\n      <td>2017</td>\n      <td>Spain</td>\n    </tr>\n    <tr>\n      <th>178018</th>\n      <td>2017</td>\n      <td>Spain</td>\n    </tr>\n    <tr>\n      <th>178048</th>\n      <td>2017</td>\n      <td>Spain</td>\n    </tr>\n    <tr>\n      <th>181113</th>\n      <td>2017</td>\n      <td>Italy</td>\n    </tr>\n    <tr>\n      <th>181682</th>\n      <td>2017</td>\n      <td>Italy</td>\n    </tr>\n  </tbody>\n</table>\n<p>4814 rows × 2 columns</p>\n</div>"
     },
     "metadata": {},
     "execution_count": 13
    }
   ],
   "source": [
    "df_filter"
   ]
  },
  {
   "cell_type": "code",
   "execution_count": null,
   "metadata": {},
   "outputs": [],
   "source": []
  }
 ]
}