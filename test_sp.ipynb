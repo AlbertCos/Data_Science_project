{
 "metadata": {
  "language_info": {
   "codemirror_mode": {
    "name": "ipython",
    "version": 3
   },
   "file_extension": ".py",
   "mimetype": "text/x-python",
   "name": "python",
   "nbconvert_exporter": "python",
   "pygments_lexer": "ipython3",
   "version": "3.8.5-final"
  },
  "orig_nbformat": 2,
  "kernelspec": {
   "name": "python3",
   "display_name": "Python 3.8.5 64-bit (conda)",
   "metadata": {
    "interpreter": {
     "hash": "198bbd6c637dc8f9690550678b0d4be01905b187f2f986c78f6b9270e29080c4"
    }
   }
  }
 },
 "nbformat": 4,
 "nbformat_minor": 2,
 "cells": [
  {
   "cell_type": "code",
   "execution_count": 23,
   "metadata": {},
   "outputs": [
    {
     "output_type": "stream",
     "name": "stdout",
     "text": [
      "Requirement already satisfied: plotly in c:\\users\\apc\\anaconda3\\lib\\site-packages (4.14.3)\nRequirement already satisfied: six in c:\\users\\apc\\anaconda3\\lib\\site-packages (from plotly) (1.15.0)\nRequirement already satisfied: retrying>=1.3.3 in c:\\users\\apc\\anaconda3\\lib\\site-packages (from plotly) (1.3.3)\n"
     ]
    }
   ],
   "source": [
    "import pandas as pd \n",
    "import seaborn as sns\n",
    "import sys\n",
    "!{sys.executable} -m pip install plotly\n",
    "from plotly.offline import iplot\n",
    "from plotly.subplots import make_subplots\n",
    "import plotly.graph_objs as go\n",
    "\n",
    "pd.set_option('display.max_rows', 500)\n",
    "pd.set_option('display.max_columns', 500)"
   ]
  },
  {
   "cell_type": "code",
   "execution_count": 15,
   "metadata": {},
   "outputs": [],
   "source": [
    "df = pd.read_csv(\"global_terror.csv\", encoding=\"latin-1\")\n"
   ]
  },
  {
   "cell_type": "code",
   "execution_count": 29,
   "metadata": {},
   "outputs": [
    {
     "output_type": "execute_result",
     "data": {
      "text/plain": [
       "'Spain'"
      ]
     },
     "metadata": {},
     "execution_count": 29
    }
   ],
   "source": []
  },
  {
   "cell_type": "code",
   "execution_count": 18,
   "metadata": {},
   "outputs": [
    {
     "output_type": "execute_result",
     "data": {
      "text/plain": [
       "Index(['eventid', 'iyear', 'imonth', 'iday', 'approxdate', 'extended',\n",
       "       'resolution', 'country', 'country_txt', 'region',\n",
       "       ...\n",
       "       'addnotes', 'scite1', 'scite2', 'scite3', 'dbsource', 'INT_LOG',\n",
       "       'INT_IDEO', 'INT_MISC', 'INT_ANY', 'related'],\n",
       "      dtype='object', length=135)"
      ]
     },
     "metadata": {},
     "execution_count": 18
    }
   ],
   "source": [
    "df.columns"
   ]
  },
  {
   "cell_type": "code",
   "execution_count": 24,
   "metadata": {},
   "outputs": [],
   "source": [
    "keep_columns =keep_columns =[\n",
    "        \"iyear\", \n",
    "        \"imonth\", \n",
    "        \"iday\", \n",
    "        \"country_txt\",\n",
    "        \"city\",\n",
    "        \"region_txt\",\n",
    "        \"latitude\",\n",
    "        \"longitude\", \n",
    "        \"provstate\"\n",
    "        ]\n",
    "\n",
    "df= df[keep_columns]"
   ]
  },
  {
   "cell_type": "code",
   "execution_count": 35,
   "metadata": {},
   "outputs": [
    {
     "output_type": "execute_result",
     "data": {
      "text/plain": [
       "2014    16903\n",
       "Name: iyear, dtype: int64"
      ]
     },
     "metadata": {},
     "execution_count": 35
    }
   ],
   "source": [
    "is_spain = df[\"country_txt\"] == \"Spain\"\n",
    "df.loc[is_spain,\"iyear\"].value_counts().head(1)"
   ]
  },
  {
   "cell_type": "code",
   "execution_count": 7,
   "metadata": {},
   "outputs": [
    {
     "output_type": "stream",
     "name": "stdout",
     "text": [
      "<class 'pandas.core.frame.DataFrame'>\nRangeIndex: 181691 entries, 0 to 181690\nData columns (total 7 columns):\n #   Column       Non-Null Count   Dtype  \n---  ------       --------------   -----  \n 0   iyear        181691 non-null  int64  \n 1   imonth       181691 non-null  int64  \n 2   iday         181691 non-null  int64  \n 3   country_txt  181691 non-null  object \n 4   region_txt   181691 non-null  object \n 5   latitude     177135 non-null  float64\n 6   longitude    177134 non-null  float64\ndtypes: float64(2), int64(3), object(2)\nmemory usage: 9.7+ MB\n"
     ]
    }
   ],
   "source": [
    "df.info()"
   ]
  },
  {
   "cell_type": "code",
   "execution_count": 12,
   "metadata": {},
   "outputs": [
    {
     "output_type": "execute_result",
     "data": {
      "text/plain": [
       "                0      1      2      3      4      5      6      7      8   \\\n",
       "iyear         1970   1970   1971   1971   1972   1972   1973   1973   1974   \n",
       "country_txt  Italy  Spain  Italy  Spain  Italy  Spain  Italy  Spain  Italy   \n",
       "count            3      4      3     22      4     19     15     21     22   \n",
       "\n",
       "                9   ...     82     83     84     85     86     87     88  \\\n",
       "iyear         1974  ...   2013   2013   2014   2014   2015   2015   2016   \n",
       "country_txt  Spain  ...  Italy  Spain  Italy  Spain  Italy  Spain  Italy   \n",
       "count           14  ...      7      5      7      4      5      1     11   \n",
       "\n",
       "                89     90     91  \n",
       "iyear         2016   2017   2017  \n",
       "country_txt  Spain  Italy  Spain  \n",
       "count            3      8      4  \n",
       "\n",
       "[3 rows x 92 columns]"
      ],
      "text/html": "<div>\n<style scoped>\n    .dataframe tbody tr th:only-of-type {\n        vertical-align: middle;\n    }\n\n    .dataframe tbody tr th {\n        vertical-align: top;\n    }\n\n    .dataframe thead th {\n        text-align: right;\n    }\n</style>\n<table border=\"1\" class=\"dataframe\">\n  <thead>\n    <tr style=\"text-align: right;\">\n      <th></th>\n      <th>0</th>\n      <th>1</th>\n      <th>2</th>\n      <th>3</th>\n      <th>4</th>\n      <th>5</th>\n      <th>6</th>\n      <th>7</th>\n      <th>8</th>\n      <th>9</th>\n      <th>...</th>\n      <th>82</th>\n      <th>83</th>\n      <th>84</th>\n      <th>85</th>\n      <th>86</th>\n      <th>87</th>\n      <th>88</th>\n      <th>89</th>\n      <th>90</th>\n      <th>91</th>\n    </tr>\n  </thead>\n  <tbody>\n    <tr>\n      <th>iyear</th>\n      <td>1970</td>\n      <td>1970</td>\n      <td>1971</td>\n      <td>1971</td>\n      <td>1972</td>\n      <td>1972</td>\n      <td>1973</td>\n      <td>1973</td>\n      <td>1974</td>\n      <td>1974</td>\n      <td>...</td>\n      <td>2013</td>\n      <td>2013</td>\n      <td>2014</td>\n      <td>2014</td>\n      <td>2015</td>\n      <td>2015</td>\n      <td>2016</td>\n      <td>2016</td>\n      <td>2017</td>\n      <td>2017</td>\n    </tr>\n    <tr>\n      <th>country_txt</th>\n      <td>Italy</td>\n      <td>Spain</td>\n      <td>Italy</td>\n      <td>Spain</td>\n      <td>Italy</td>\n      <td>Spain</td>\n      <td>Italy</td>\n      <td>Spain</td>\n      <td>Italy</td>\n      <td>Spain</td>\n      <td>...</td>\n      <td>Italy</td>\n      <td>Spain</td>\n      <td>Italy</td>\n      <td>Spain</td>\n      <td>Italy</td>\n      <td>Spain</td>\n      <td>Italy</td>\n      <td>Spain</td>\n      <td>Italy</td>\n      <td>Spain</td>\n    </tr>\n    <tr>\n      <th>count</th>\n      <td>3</td>\n      <td>4</td>\n      <td>3</td>\n      <td>22</td>\n      <td>4</td>\n      <td>19</td>\n      <td>15</td>\n      <td>21</td>\n      <td>22</td>\n      <td>14</td>\n      <td>...</td>\n      <td>7</td>\n      <td>5</td>\n      <td>7</td>\n      <td>4</td>\n      <td>5</td>\n      <td>1</td>\n      <td>11</td>\n      <td>3</td>\n      <td>8</td>\n      <td>4</td>\n    </tr>\n  </tbody>\n</table>\n<p>3 rows × 92 columns</p>\n</div>"
     },
     "metadata": {},
     "execution_count": 12
    }
   ],
   "source": [
    "df_filter= df[df[\"country_txt\"].isin([\"Spain\",\"Italy\"])]\n",
    "df_filter= df_filter[[\"iyear\",\"country_txt\"]]\n",
    "\n",
    "gb = df_filter.groupby([\"iyear\",\"country_txt\"])[\"country_txt\"].count().to_frame()\n",
    "gb.columns = [\"count\"]\n",
    "gb.reset_index(inplace = True)\n",
    "gb.T\n"
   ]
  },
  {
   "cell_type": "code",
   "execution_count": 13,
   "metadata": {},
   "outputs": [
    {
     "output_type": "execute_result",
     "data": {
      "text/plain": [
       "        iyear country_txt\n",
       "12       1970       Italy\n",
       "97       1970       Italy\n",
       "103      1970       Spain\n",
       "437      1970       Spain\n",
       "569      1970       Italy\n",
       "...       ...         ...\n",
       "178017   2017       Spain\n",
       "178018   2017       Spain\n",
       "178048   2017       Spain\n",
       "181113   2017       Italy\n",
       "181682   2017       Italy\n",
       "\n",
       "[4814 rows x 2 columns]"
      ],
      "text/html": "<div>\n<style scoped>\n    .dataframe tbody tr th:only-of-type {\n        vertical-align: middle;\n    }\n\n    .dataframe tbody tr th {\n        vertical-align: top;\n    }\n\n    .dataframe thead th {\n        text-align: right;\n    }\n</style>\n<table border=\"1\" class=\"dataframe\">\n  <thead>\n    <tr style=\"text-align: right;\">\n      <th></th>\n      <th>iyear</th>\n      <th>country_txt</th>\n    </tr>\n  </thead>\n  <tbody>\n    <tr>\n      <th>12</th>\n      <td>1970</td>\n      <td>Italy</td>\n    </tr>\n    <tr>\n      <th>97</th>\n      <td>1970</td>\n      <td>Italy</td>\n    </tr>\n    <tr>\n      <th>103</th>\n      <td>1970</td>\n      <td>Spain</td>\n    </tr>\n    <tr>\n      <th>437</th>\n      <td>1970</td>\n      <td>Spain</td>\n    </tr>\n    <tr>\n      <th>569</th>\n      <td>1970</td>\n      <td>Italy</td>\n    </tr>\n    <tr>\n      <th>...</th>\n      <td>...</td>\n      <td>...</td>\n    </tr>\n    <tr>\n      <th>178017</th>\n      <td>2017</td>\n      <td>Spain</td>\n    </tr>\n    <tr>\n      <th>178018</th>\n      <td>2017</td>\n      <td>Spain</td>\n    </tr>\n    <tr>\n      <th>178048</th>\n      <td>2017</td>\n      <td>Spain</td>\n    </tr>\n    <tr>\n      <th>181113</th>\n      <td>2017</td>\n      <td>Italy</td>\n    </tr>\n    <tr>\n      <th>181682</th>\n      <td>2017</td>\n      <td>Italy</td>\n    </tr>\n  </tbody>\n</table>\n<p>4814 rows × 2 columns</p>\n</div>"
     },
     "metadata": {},
     "execution_count": 13
    }
   ],
   "source": [
    "df_filter"
   ]
  },
  {
   "cell_type": "code",
   "execution_count": null,
   "metadata": {},
   "outputs": [],
   "source": []
  }
 ]
}